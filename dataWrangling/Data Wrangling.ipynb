{
 "cells": [
  {
   "cell_type": "code",
   "execution_count": null,
   "id": "stupid-property",
   "metadata": {},
   "outputs": [],
   "source": [
    "import pandas as pd"
   ]
  },
  {
   "cell_type": "code",
   "execution_count": null,
   "id": "fleet-vegetation",
   "metadata": {},
   "outputs": [],
   "source": [
    "# Import dataset from GitHub as dataframe\n",
    "df = pd.read_csv('https://raw.githubusercontent.com/DanielRosshirt/ds4300project/main/genre_music.csv')\n",
    "df"
   ]
  },
  {
   "cell_type": "code",
   "execution_count": null,
   "id": "blind-alignment",
   "metadata": {},
   "outputs": [],
   "source": [
    "# Select key attributes for network:'tempo' 'danceability', 'acousticness', 'energy' 'decade', 'genre'\n",
    "selected = df[['track', 'artist','tempo','danceability', 'acousticness', 'energy', 'decade', 'genre']]\n",
    "selected"
   ]
  },
  {
   "cell_type": "code",
   "execution_count": null,
   "id": "tough-disney",
   "metadata": {},
   "outputs": [],
   "source": [
    "# Normalize the tempo of the songs using the min-max feature scaling\n",
    "df_min_max_scaled = selected.copy()\n",
    "df_min_max_scaled[\"tempo\"] = (df_min_max_scaled[\"tempo\"] - df_min_max_scaled[\"tempo\"].min()) / (df_min_max_scaled[\"tempo\"].max() - df_min_max_scaled[\"tempo\"].min())\n",
    "df_min_max_scaled"
   ]
  },
  {
   "cell_type": "code",
   "execution_count": null,
   "id": "white-consolidation",
   "metadata": {},
   "outputs": [],
   "source": [
    "# Choose 100 random songs\n",
    "node = df_min_max_scaled.sample(n = 100)\n",
    "node"
   ]
  },
  {
   "cell_type": "code",
   "execution_count": null,
   "id": "british-probability",
   "metadata": {},
   "outputs": [],
   "source": [
    "# Calculate the euclidean distance\n",
    "import math\n",
    "def euclidean_distance(row1, row2):\n",
    "    difference = []\n",
    "    zip_list = zip(row1, row2)\n",
    "    for i, j in zip_list:\n",
    "        difference.append(i - j)\n",
    "    sqrd = [number ** 2.0 for number in difference]\n",
    "    sm = sum(sqrd)\n",
    "    return math.sqrt(sm)"
   ]
  },
  {
   "cell_type": "code",
   "execution_count": null,
   "id": "antique-question",
   "metadata": {},
   "outputs": [],
   "source": [
    "# Create the label \n",
    "label = node[['track', 'artist']]\n",
    "label"
   ]
  },
  {
   "cell_type": "code",
   "execution_count": null,
   "id": "serial-fortune",
   "metadata": {},
   "outputs": [],
   "source": [
    "lb = label.to_numpy()\n",
    "lb[0]"
   ]
  },
  {
   "cell_type": "code",
   "execution_count": null,
   "id": "universal-liver",
   "metadata": {},
   "outputs": [],
   "source": [
    "# Removing the labels\n",
    "math_ed = node[['tempo','danceability', 'acousticness', 'energy']]\n",
    "math_ed"
   ]
  },
  {
   "cell_type": "code",
   "execution_count": null,
   "id": "portuguese-disorder",
   "metadata": {},
   "outputs": [],
   "source": [
    "# Calculating the euclidean distance between attributes\n",
    "distance = []\n",
    "for i in range(len(math_ed) - 1):\n",
    "    j = i + 1\n",
    "    for j in range(j, len(math_ed)):\n",
    "        distance.append(euclidean_distance(math_ed.iloc[i], math_ed.iloc[j]))\n",
    "distance"
   ]
  },
  {
   "cell_type": "code",
   "execution_count": null,
   "id": "legal-prospect",
   "metadata": {},
   "outputs": [],
   "source": [
    "# Creating the link labels\n",
    "import numpy as np\n",
    "k = []\n",
    "for i in range(len(lb) - 1):\n",
    "    j = i + 1\n",
    "    for j in range(j, len(lb)):\n",
    "        d = np.append(lb[i], lb[j])\n",
    "        k.append(d)\n",
    "k"
   ]
  },
  {
   "cell_type": "code",
   "execution_count": null,
   "id": "blessed-welsh",
   "metadata": {},
   "outputs": [],
   "source": [
    "links = pd.DataFrame(k, columns = ['track1','artist1','track2', 'artist2'])\n",
    "links"
   ]
  },
  {
   "cell_type": "code",
   "execution_count": null,
   "id": "impaired-shepherd",
   "metadata": {},
   "outputs": [],
   "source": [
    "links['euclidean'] = distance"
   ]
  },
  {
   "cell_type": "code",
   "execution_count": null,
   "id": "funny-delay",
   "metadata": {},
   "outputs": [],
   "source": [
    "# Final links for the data\n",
    "links"
   ]
  },
  {
   "cell_type": "code",
   "execution_count": null,
   "id": "fancy-florist",
   "metadata": {},
   "outputs": [],
   "source": [
    "# Final nodes for the data\n",
    "node"
   ]
  },
  {
   "cell_type": "code",
   "execution_count": null,
   "id": "expanded-apache",
   "metadata": {},
   "outputs": [],
   "source": [
    "links.to_csv(\"links.csv\")"
   ]
  },
  {
   "cell_type": "code",
   "execution_count": null,
   "id": "adaptive-editor",
   "metadata": {},
   "outputs": [],
   "source": [
    "node.to_csv(\"node.csv\")"
   ]
  },
  {
   "cell_type": "code",
   "execution_count": null,
   "id": "transsexual-tribute",
   "metadata": {},
   "outputs": [],
   "source": [
    "gg = pd.read_csv('links.csv')\n",
    "gg"
   ]
  },
  {
   "cell_type": "code",
   "execution_count": null,
   "id": "obvious-european",
   "metadata": {},
   "outputs": [],
   "source": [
    "gg.describe()"
   ]
  },
  {
   "cell_type": "code",
   "execution_count": null,
   "id": "protective-failure",
   "metadata": {},
   "outputs": [],
   "source": []
  }
 ],
 "metadata": {
  "kernelspec": {
   "display_name": "Python 3",
   "language": "python",
   "name": "python3"
  },
  "language_info": {
   "codemirror_mode": {
    "name": "ipython",
    "version": 3
   },
   "file_extension": ".py",
   "mimetype": "text/x-python",
   "name": "python",
   "nbconvert_exporter": "python",
   "pygments_lexer": "ipython3",
   "version": "3.7.10"
  }
 },
 "nbformat": 4,
 "nbformat_minor": 5
}
